{
  "nbformat": 4,
  "nbformat_minor": 0,
  "metadata": {
    "kernelspec": {
      "display_name": "Python 3",
      "language": "python",
      "name": "python3"
    },
    "language_info": {
      "codemirror_mode": {
        "name": "ipython",
        "version": 3
      },
      "file_extension": ".py",
      "mimetype": "text/x-python",
      "name": "python",
      "nbconvert_exporter": "python",
      "pygments_lexer": "ipython3",
      "version": "3.8.3"
    },
    "colab": {
      "name": "TamilCharacterOCR.ipynb",
      "provenance": [],
      "collapsed_sections": []
    },
    "accelerator": "GPU"
  },
  "cells": [
    {
      "cell_type": "code",
      "metadata": {
        "id": "XWsbfYef22Ya"
      },
      "source": [
        "import os\n",
        "import pandas as pd\n",
        "import matplotlib.pyplot as plt\n",
        "import numpy as np\n",
        "from keras import layers, models\n",
        "from keras.preprocessing.image import ImageDataGenerator, load_img,img_to_array\n",
        "from sklearn.model_selection import StratifiedShuffleSplit"
      ],
      "execution_count": null,
      "outputs": []
    },
    {
      "cell_type": "code",
      "metadata": {
        "colab": {
          "base_uri": "https://localhost:8080/"
        },
        "id": "Lv-Howzo31pT",
        "outputId": "1ea4b842-4d1a-4f21-bb83-693f51ca1be2"
      },
      "source": [
        "from google.colab import drive\n",
        "drive.mount('/content/gdrive')"
      ],
      "execution_count": null,
      "outputs": [
        {
          "output_type": "stream",
          "name": "stdout",
          "text": [
            "Mounted at /content/gdrive\n"
          ]
        }
      ]
    },
    {
      "cell_type": "code",
      "metadata": {
        "id": "SCBliZX032EV"
      },
      "source": [
        ""
      ],
      "execution_count": null,
      "outputs": []
    },
    {
      "cell_type": "markdown",
      "metadata": {
        "id": "A7ZMI8MJ6CD1"
      },
      "source": [
        ""
      ]
    },
    {
      "cell_type": "code",
      "metadata": {
        "id": "2q32mSUx22Yf"
      },
      "source": [
        "TRAIN_PATH = \"/content/gdrive/MyDrive/HandwrittenRecognition/Datasets\""
      ],
      "execution_count": null,
      "outputs": []
    },
    {
      "cell_type": "code",
      "metadata": {
        "id": "ywSWArjAKdgZ"
      },
      "source": [
        ""
      ],
      "execution_count": null,
      "outputs": []
    },
    {
      "cell_type": "code",
      "metadata": {
        "id": "ZHKSF0iE22Yg"
      },
      "source": [
        "folder_names = os.listdir(TRAIN_PATH)\n",
        "files = []"
      ],
      "execution_count": null,
      "outputs": []
    },
    {
      "cell_type": "code",
      "metadata": {
        "id": "787hytAd22Yg"
      },
      "source": [
        "# Creating Dataframe\n",
        "class_values = []\n",
        "filenames = os.listdir(TRAIN_PATH)\n",
        "class_values = []\n",
        "for filename in filenames:\n",
        "    class_val = str(int(filename[:3]))\n",
        "    class_values.append(class_val)\n",
        "    \n",
        "\n",
        "df = pd.DataFrame({\n",
        "    'filename':filenames,\n",
        "    'class':class_values\n",
        "})"
      ],
      "execution_count": null,
      "outputs": []
    },
    {
      "cell_type": "code",
      "metadata": {
        "id": "l_BkC2mj22Yh",
        "colab": {
          "base_uri": "https://localhost:8080/"
        },
        "outputId": "8d96b68a-8f1b-4c6b-f575-63c3eb7d44b1"
      },
      "source": [
        "len(df)"
      ],
      "execution_count": null,
      "outputs": [
        {
          "output_type": "execute_result",
          "data": {
            "text/plain": [
              "1860"
            ]
          },
          "metadata": {},
          "execution_count": 6
        }
      ]
    },
    {
      "cell_type": "code",
      "metadata": {
        "id": "YotBUCpE22Yi",
        "colab": {
          "base_uri": "https://localhost:8080/",
          "height": 206
        },
        "outputId": "a66631cc-c94a-401d-df23-66639b30930c"
      },
      "source": [
        "df.head()"
      ],
      "execution_count": null,
      "outputs": [
        {
          "output_type": "execute_result",
          "data": {
            "text/html": [
              "<div>\n",
              "<style scoped>\n",
              "    .dataframe tbody tr th:only-of-type {\n",
              "        vertical-align: middle;\n",
              "    }\n",
              "\n",
              "    .dataframe tbody tr th {\n",
              "        vertical-align: top;\n",
              "    }\n",
              "\n",
              "    .dataframe thead th {\n",
              "        text-align: right;\n",
              "    }\n",
              "</style>\n",
              "<table border=\"1\" class=\"dataframe\">\n",
              "  <thead>\n",
              "    <tr style=\"text-align: right;\">\n",
              "      <th></th>\n",
              "      <th>filename</th>\n",
              "      <th>class</th>\n",
              "    </tr>\n",
              "  </thead>\n",
              "  <tbody>\n",
              "    <tr>\n",
              "      <th>0</th>\n",
              "      <td>021t03.tiff</td>\n",
              "      <td>21</td>\n",
              "    </tr>\n",
              "    <tr>\n",
              "      <th>1</th>\n",
              "      <td>007t09.tiff</td>\n",
              "      <td>7</td>\n",
              "    </tr>\n",
              "    <tr>\n",
              "      <th>2</th>\n",
              "      <td>101t03.tiff</td>\n",
              "      <td>101</td>\n",
              "    </tr>\n",
              "    <tr>\n",
              "      <th>3</th>\n",
              "      <td>121t03.tiff</td>\n",
              "      <td>121</td>\n",
              "    </tr>\n",
              "    <tr>\n",
              "      <th>4</th>\n",
              "      <td>129t03.tiff</td>\n",
              "      <td>129</td>\n",
              "    </tr>\n",
              "  </tbody>\n",
              "</table>\n",
              "</div>"
            ],
            "text/plain": [
              "      filename class\n",
              "0  021t03.tiff    21\n",
              "1  007t09.tiff     7\n",
              "2  101t03.tiff   101\n",
              "3  121t03.tiff   121\n",
              "4  129t03.tiff   129"
            ]
          },
          "metadata": {},
          "execution_count": 7
        }
      ]
    },
    {
      "cell_type": "code",
      "metadata": {
        "id": "kphD5mCv22Yj",
        "colab": {
          "base_uri": "https://localhost:8080/"
        },
        "outputId": "86cc801a-f464-4f7b-97bf-dbfcf0fea670"
      },
      "source": [
        "print(len(df['class'].unique()))"
      ],
      "execution_count": null,
      "outputs": [
        {
          "output_type": "stream",
          "name": "stdout",
          "text": [
            "156\n"
          ]
        }
      ]
    },
    {
      "cell_type": "code",
      "metadata": {
        "colab": {
          "base_uri": "https://localhost:8080/"
        },
        "id": "6i2fmHtvKipr",
        "outputId": "732a1843-4ccf-4c89-917e-f1656cbfe3aa"
      },
      "source": [
        "print(df['class'].value_counts())"
      ],
      "execution_count": null,
      "outputs": [
        {
          "output_type": "stream",
          "name": "stdout",
          "text": [
            "24     12\n",
            "82     12\n",
            "103    12\n",
            "54     12\n",
            "42     12\n",
            "       ..\n",
            "129    10\n",
            "152    10\n",
            "124    10\n",
            "55     10\n",
            "78     10\n",
            "Name: class, Length: 156, dtype: int64\n"
          ]
        }
      ]
    },
    {
      "cell_type": "code",
      "metadata": {
        "id": "DhmoPSv0LgRO"
      },
      "source": [
        ""
      ],
      "execution_count": null,
      "outputs": []
    },
    {
      "cell_type": "code",
      "metadata": {
        "id": "Q8b_ykOc22Yj"
      },
      "source": [
        ""
      ],
      "execution_count": null,
      "outputs": []
    },
    {
      "cell_type": "code",
      "metadata": {
        "id": "GlEPyGYT5xYR"
      },
      "source": [
        "split = StratifiedShuffleSplit(n_splits=1,test_size=0.2,random_state=7)\n",
        "for train_index,validation_index in split.split(df,df['class']):\n",
        "  train_df = df.loc[train_index]\n",
        "  val_df = df.loc[validation_index]"
      ],
      "execution_count": null,
      "outputs": []
    },
    {
      "cell_type": "code",
      "metadata": {
        "colab": {
          "base_uri": "https://localhost:8080/",
          "height": 206
        },
        "id": "uzgNk_lp5yHb",
        "outputId": "f1cd86b5-4df1-4a84-acec-ff3a3d453ab9"
      },
      "source": [
        "train_df.head()"
      ],
      "execution_count": null,
      "outputs": [
        {
          "output_type": "execute_result",
          "data": {
            "text/html": [
              "<div>\n",
              "<style scoped>\n",
              "    .dataframe tbody tr th:only-of-type {\n",
              "        vertical-align: middle;\n",
              "    }\n",
              "\n",
              "    .dataframe tbody tr th {\n",
              "        vertical-align: top;\n",
              "    }\n",
              "\n",
              "    .dataframe thead th {\n",
              "        text-align: right;\n",
              "    }\n",
              "</style>\n",
              "<table border=\"1\" class=\"dataframe\">\n",
              "  <thead>\n",
              "    <tr style=\"text-align: right;\">\n",
              "      <th></th>\n",
              "      <th>filename</th>\n",
              "      <th>class</th>\n",
              "    </tr>\n",
              "  </thead>\n",
              "  <tbody>\n",
              "    <tr>\n",
              "      <th>1108</th>\n",
              "      <td>110t10.tiff</td>\n",
              "      <td>110</td>\n",
              "    </tr>\n",
              "    <tr>\n",
              "      <th>249</th>\n",
              "      <td>075t08.tiff</td>\n",
              "      <td>75</td>\n",
              "    </tr>\n",
              "    <tr>\n",
              "      <th>1778</th>\n",
              "      <td>152t02.tiff</td>\n",
              "      <td>152</td>\n",
              "    </tr>\n",
              "    <tr>\n",
              "      <th>1306</th>\n",
              "      <td>131t03.tiff</td>\n",
              "      <td>131</td>\n",
              "    </tr>\n",
              "    <tr>\n",
              "      <th>825</th>\n",
              "      <td>033t02.png</td>\n",
              "      <td>33</td>\n",
              "    </tr>\n",
              "  </tbody>\n",
              "</table>\n",
              "</div>"
            ],
            "text/plain": [
              "         filename class\n",
              "1108  110t10.tiff   110\n",
              "249   075t08.tiff    75\n",
              "1778  152t02.tiff   152\n",
              "1306  131t03.tiff   131\n",
              "825    033t02.png    33"
            ]
          },
          "metadata": {},
          "execution_count": 12
        }
      ]
    },
    {
      "cell_type": "code",
      "metadata": {
        "id": "e8XeVqRh22Yl"
      },
      "source": [
        "train_df = train_df.reset_index(drop=True)\n",
        "val_df = val_df.reset_index(drop=True)"
      ],
      "execution_count": null,
      "outputs": []
    },
    {
      "cell_type": "code",
      "metadata": {
        "colab": {
          "base_uri": "https://localhost:8080/",
          "height": 206
        },
        "id": "miVEtMtR7bey",
        "outputId": "bbcd64d2-662f-408e-e12b-e74c5b38683a"
      },
      "source": [
        "train_df.head()"
      ],
      "execution_count": null,
      "outputs": [
        {
          "output_type": "execute_result",
          "data": {
            "text/html": [
              "<div>\n",
              "<style scoped>\n",
              "    .dataframe tbody tr th:only-of-type {\n",
              "        vertical-align: middle;\n",
              "    }\n",
              "\n",
              "    .dataframe tbody tr th {\n",
              "        vertical-align: top;\n",
              "    }\n",
              "\n",
              "    .dataframe thead th {\n",
              "        text-align: right;\n",
              "    }\n",
              "</style>\n",
              "<table border=\"1\" class=\"dataframe\">\n",
              "  <thead>\n",
              "    <tr style=\"text-align: right;\">\n",
              "      <th></th>\n",
              "      <th>filename</th>\n",
              "      <th>class</th>\n",
              "    </tr>\n",
              "  </thead>\n",
              "  <tbody>\n",
              "    <tr>\n",
              "      <th>0</th>\n",
              "      <td>110t10.tiff</td>\n",
              "      <td>110</td>\n",
              "    </tr>\n",
              "    <tr>\n",
              "      <th>1</th>\n",
              "      <td>075t08.tiff</td>\n",
              "      <td>75</td>\n",
              "    </tr>\n",
              "    <tr>\n",
              "      <th>2</th>\n",
              "      <td>152t02.tiff</td>\n",
              "      <td>152</td>\n",
              "    </tr>\n",
              "    <tr>\n",
              "      <th>3</th>\n",
              "      <td>131t03.tiff</td>\n",
              "      <td>131</td>\n",
              "    </tr>\n",
              "    <tr>\n",
              "      <th>4</th>\n",
              "      <td>033t02.png</td>\n",
              "      <td>33</td>\n",
              "    </tr>\n",
              "  </tbody>\n",
              "</table>\n",
              "</div>"
            ],
            "text/plain": [
              "      filename class\n",
              "0  110t10.tiff   110\n",
              "1  075t08.tiff    75\n",
              "2  152t02.tiff   152\n",
              "3  131t03.tiff   131\n",
              "4   033t02.png    33"
            ]
          },
          "metadata": {},
          "execution_count": 14
        }
      ]
    },
    {
      "cell_type": "code",
      "metadata": {
        "id": "UoSpN0Oq7aki",
        "colab": {
          "base_uri": "https://localhost:8080/",
          "height": 206
        },
        "outputId": "aa1e9770-c3a2-49ea-d110-d50b223eb6b6"
      },
      "source": [
        "val_df.head()"
      ],
      "execution_count": null,
      "outputs": [
        {
          "output_type": "execute_result",
          "data": {
            "text/html": [
              "<div>\n",
              "<style scoped>\n",
              "    .dataframe tbody tr th:only-of-type {\n",
              "        vertical-align: middle;\n",
              "    }\n",
              "\n",
              "    .dataframe tbody tr th {\n",
              "        vertical-align: top;\n",
              "    }\n",
              "\n",
              "    .dataframe thead th {\n",
              "        text-align: right;\n",
              "    }\n",
              "</style>\n",
              "<table border=\"1\" class=\"dataframe\">\n",
              "  <thead>\n",
              "    <tr style=\"text-align: right;\">\n",
              "      <th></th>\n",
              "      <th>filename</th>\n",
              "      <th>class</th>\n",
              "    </tr>\n",
              "  </thead>\n",
              "  <tbody>\n",
              "    <tr>\n",
              "      <th>0</th>\n",
              "      <td>104t06.tiff</td>\n",
              "      <td>104</td>\n",
              "    </tr>\n",
              "    <tr>\n",
              "      <th>1</th>\n",
              "      <td>031t01.png</td>\n",
              "      <td>31</td>\n",
              "    </tr>\n",
              "    <tr>\n",
              "      <th>2</th>\n",
              "      <td>040t05.tiff</td>\n",
              "      <td>40</td>\n",
              "    </tr>\n",
              "    <tr>\n",
              "      <th>3</th>\n",
              "      <td>043t07.tiff</td>\n",
              "      <td>43</td>\n",
              "    </tr>\n",
              "    <tr>\n",
              "      <th>4</th>\n",
              "      <td>132t02.png</td>\n",
              "      <td>132</td>\n",
              "    </tr>\n",
              "  </tbody>\n",
              "</table>\n",
              "</div>"
            ],
            "text/plain": [
              "      filename class\n",
              "0  104t06.tiff   104\n",
              "1   031t01.png    31\n",
              "2  040t05.tiff    40\n",
              "3  043t07.tiff    43\n",
              "4   132t02.png   132"
            ]
          },
          "metadata": {},
          "execution_count": 15
        }
      ]
    },
    {
      "cell_type": "code",
      "metadata": {
        "id": "0fFqotUGCPzJ"
      },
      "source": [
        ""
      ],
      "execution_count": null,
      "outputs": []
    },
    {
      "cell_type": "code",
      "metadata": {
        "id": "2YQrX6Ey22Ym",
        "colab": {
          "base_uri": "https://localhost:8080/"
        },
        "outputId": "a5c6d274-f236-4963-8b15-e06a7143558b"
      },
      "source": [
        "print('Train Dataset Size: ', len(train_df))\n",
        "print('Validation Dataset Size: ', len(val_df))"
      ],
      "execution_count": null,
      "outputs": [
        {
          "output_type": "stream",
          "name": "stdout",
          "text": [
            "Train Dataset Size:  1488\n",
            "Validation Dataset Size:  372\n"
          ]
        }
      ]
    },
    {
      "cell_type": "code",
      "metadata": {
        "id": "nSzJKDYl2kqa"
      },
      "source": [
        "train_df.to_csv('/content/gdrive/MyDrive/HandwrittenRecognition/train.csv')\n",
        "val_df.to_csv('/content/gdrive/MyDrive/HandwrittenRecognition/val.csv')"
      ],
      "execution_count": null,
      "outputs": []
    },
    {
      "cell_type": "code",
      "metadata": {
        "id": "hE39AfvW2k6T"
      },
      "source": [
        "train_df = pd.read_csv('/content/gdrive/MyDrive/HandwrittenRecognition/train.csv')\n",
        "val_df = pd.read_csv('/content/gdrive/MyDrive/HandwrittenRecognition/val.csv')\n",
        "\n",
        "train_df['class'] = train_df['class'].astype(str)\n",
        "val_df['class'] = val_df['class'].astype(str)\n",
        "\n"
      ],
      "execution_count": null,
      "outputs": []
    },
    {
      "cell_type": "code",
      "metadata": {
        "colab": {
          "base_uri": "https://localhost:8080/",
          "height": 206
        },
        "id": "raVMnbxD3Q5p",
        "outputId": "43d495e3-8377-41fd-f5ee-02837d57e82f"
      },
      "source": [
        "train_df.head()"
      ],
      "execution_count": null,
      "outputs": [
        {
          "output_type": "execute_result",
          "data": {
            "text/html": [
              "<div>\n",
              "<style scoped>\n",
              "    .dataframe tbody tr th:only-of-type {\n",
              "        vertical-align: middle;\n",
              "    }\n",
              "\n",
              "    .dataframe tbody tr th {\n",
              "        vertical-align: top;\n",
              "    }\n",
              "\n",
              "    .dataframe thead th {\n",
              "        text-align: right;\n",
              "    }\n",
              "</style>\n",
              "<table border=\"1\" class=\"dataframe\">\n",
              "  <thead>\n",
              "    <tr style=\"text-align: right;\">\n",
              "      <th></th>\n",
              "      <th>Unnamed: 0</th>\n",
              "      <th>filename</th>\n",
              "      <th>class</th>\n",
              "    </tr>\n",
              "  </thead>\n",
              "  <tbody>\n",
              "    <tr>\n",
              "      <th>0</th>\n",
              "      <td>0</td>\n",
              "      <td>110t10.tiff</td>\n",
              "      <td>110</td>\n",
              "    </tr>\n",
              "    <tr>\n",
              "      <th>1</th>\n",
              "      <td>1</td>\n",
              "      <td>075t08.tiff</td>\n",
              "      <td>75</td>\n",
              "    </tr>\n",
              "    <tr>\n",
              "      <th>2</th>\n",
              "      <td>2</td>\n",
              "      <td>152t02.tiff</td>\n",
              "      <td>152</td>\n",
              "    </tr>\n",
              "    <tr>\n",
              "      <th>3</th>\n",
              "      <td>3</td>\n",
              "      <td>131t03.tiff</td>\n",
              "      <td>131</td>\n",
              "    </tr>\n",
              "    <tr>\n",
              "      <th>4</th>\n",
              "      <td>4</td>\n",
              "      <td>033t02.png</td>\n",
              "      <td>33</td>\n",
              "    </tr>\n",
              "  </tbody>\n",
              "</table>\n",
              "</div>"
            ],
            "text/plain": [
              "   Unnamed: 0     filename class\n",
              "0           0  110t10.tiff   110\n",
              "1           1  075t08.tiff    75\n",
              "2           2  152t02.tiff   152\n",
              "3           3  131t03.tiff   131\n",
              "4           4   033t02.png    33"
            ]
          },
          "metadata": {},
          "execution_count": 20
        }
      ]
    },
    {
      "cell_type": "code",
      "metadata": {
        "colab": {
          "base_uri": "https://localhost:8080/",
          "height": 206
        },
        "id": "kb2B5OP13RT5",
        "outputId": "c2394a84-579c-4d9f-8710-fc9c1cce4a68"
      },
      "source": [
        "val_df.head()"
      ],
      "execution_count": null,
      "outputs": [
        {
          "output_type": "execute_result",
          "data": {
            "text/html": [
              "<div>\n",
              "<style scoped>\n",
              "    .dataframe tbody tr th:only-of-type {\n",
              "        vertical-align: middle;\n",
              "    }\n",
              "\n",
              "    .dataframe tbody tr th {\n",
              "        vertical-align: top;\n",
              "    }\n",
              "\n",
              "    .dataframe thead th {\n",
              "        text-align: right;\n",
              "    }\n",
              "</style>\n",
              "<table border=\"1\" class=\"dataframe\">\n",
              "  <thead>\n",
              "    <tr style=\"text-align: right;\">\n",
              "      <th></th>\n",
              "      <th>Unnamed: 0</th>\n",
              "      <th>filename</th>\n",
              "      <th>class</th>\n",
              "    </tr>\n",
              "  </thead>\n",
              "  <tbody>\n",
              "    <tr>\n",
              "      <th>0</th>\n",
              "      <td>0</td>\n",
              "      <td>104t06.tiff</td>\n",
              "      <td>104</td>\n",
              "    </tr>\n",
              "    <tr>\n",
              "      <th>1</th>\n",
              "      <td>1</td>\n",
              "      <td>031t01.png</td>\n",
              "      <td>31</td>\n",
              "    </tr>\n",
              "    <tr>\n",
              "      <th>2</th>\n",
              "      <td>2</td>\n",
              "      <td>040t05.tiff</td>\n",
              "      <td>40</td>\n",
              "    </tr>\n",
              "    <tr>\n",
              "      <th>3</th>\n",
              "      <td>3</td>\n",
              "      <td>043t07.tiff</td>\n",
              "      <td>43</td>\n",
              "    </tr>\n",
              "    <tr>\n",
              "      <th>4</th>\n",
              "      <td>4</td>\n",
              "      <td>132t02.png</td>\n",
              "      <td>132</td>\n",
              "    </tr>\n",
              "  </tbody>\n",
              "</table>\n",
              "</div>"
            ],
            "text/plain": [
              "   Unnamed: 0     filename class\n",
              "0           0  104t06.tiff   104\n",
              "1           1   031t01.png    31\n",
              "2           2  040t05.tiff    40\n",
              "3           3  043t07.tiff    43\n",
              "4           4   132t02.png   132"
            ]
          },
          "metadata": {},
          "execution_count": 21
        }
      ]
    },
    {
      "cell_type": "code",
      "metadata": {
        "id": "4BJ-WCtE22Ym",
        "colab": {
          "base_uri": "https://localhost:8080/"
        },
        "outputId": "d5a54b2d-e176-4548-e5f1-b7f1fd7db0ba"
      },
      "source": [
        "batch_size = 8\n",
        "epoch = 100\n",
        "\n",
        "train_count = train_df.shape[0]\n",
        "val_count = val_df.shape[0]\n",
        "\n",
        "train_datagen = ImageDataGenerator()\n",
        "\n",
        "train_gen = train_datagen.flow_from_dataframe(\n",
        "    train_df,\n",
        "    directory = TRAIN_PATH,\n",
        "    x_col = 'filename',\n",
        "    y_col = 'class',\n",
        "    class_mode = 'categorical',\n",
        "    target_size = (128,128),\n",
        "    batch_size = batch_size,\n",
        "    color_mode='grayscale',\n",
        ")\n",
        "\n",
        "val_gen = train_datagen.flow_from_dataframe(\n",
        "    val_df,\n",
        "    directory = TRAIN_PATH,\n",
        "    x_col = 'filename',\n",
        "    y_col = 'class',\n",
        "    class_mode = 'categorical',\n",
        "    target_size = (128,128),\n",
        "    batch_size = batch_size,\n",
        "    color_mode='grayscale',\n",
        ") "
      ],
      "execution_count": null,
      "outputs": [
        {
          "output_type": "stream",
          "name": "stdout",
          "text": [
            "Found 1488 validated image filenames belonging to 156 classes.\n",
            "Found 372 validated image filenames belonging to 156 classes.\n"
          ]
        }
      ]
    },
    {
      "cell_type": "code",
      "metadata": {
        "id": "x1ZAPBwQ22Yn",
        "colab": {
          "base_uri": "https://localhost:8080/"
        },
        "outputId": "4463dd13-b047-4f46-e18f-e2251d1d27d6"
      },
      "source": [
        "train_gen.class_indices == val_gen.class_indices"
      ],
      "execution_count": null,
      "outputs": [
        {
          "output_type": "execute_result",
          "data": {
            "text/plain": [
              "True"
            ]
          },
          "metadata": {},
          "execution_count": 23
        }
      ]
    },
    {
      "cell_type": "code",
      "metadata": {
        "id": "0tA2TtO5GFvA"
      },
      "source": [
        ""
      ],
      "execution_count": null,
      "outputs": []
    },
    {
      "cell_type": "code",
      "metadata": {
        "id": "B_5luqkA22Yn"
      },
      "source": [
        "def build_model():\n",
        "    \n",
        "    model = models.Sequential()\n",
        "\n",
        "    model.add(layers.Conv2D(64, 5, activation='relu',padding = 'same' ,input_shape=(128,128,1)))\n",
        "    model.add(layers.BatchNormalization())\n",
        "    model.add(layers.MaxPool2D(3))\n",
        "    model.add(layers.Dropout(0.2))\n",
        "\n",
        "    model.add(layers.Conv2D(128, 3, activation='relu',padding='same'))\n",
        "    model.add(layers.BatchNormalization())\n",
        "    model.add(layers.MaxPool2D(3))\n",
        "    model.add(layers.Dropout(0.2))\n",
        "\n",
        "    model.add(layers.Conv2D(128, 3,activation='relu',padding='same'))\n",
        "    model.add(layers.BatchNormalization())\n",
        "    model.add(layers.MaxPool2D(2))\n",
        "    model.add(layers.Dropout(0.2))\n",
        "\n",
        "    model.add(layers.Conv2D(128, 3, activation='relu',padding='same'))\n",
        "    model.add(layers.BatchNormalization())\n",
        "    model.add(layers.MaxPool2D(2))\n",
        "    model.add(layers.Dropout(0.2))\n",
        "\n",
        "    model.add(layers.Flatten())\n",
        "    model.add(layers.Dense(256, activation='relu'))\n",
        "    model.add(layers.BatchNormalization())\n",
        "    model.add(layers.Dense(156, activation='softmax'))\n",
        "\n",
        "    model.compile(loss='categorical_crossentropy', optimizer='rmsprop', metrics=['accuracy'])\n",
        "    return model\n",
        "\n",
        "model = build_model()"
      ],
      "execution_count": null,
      "outputs": []
    },
    {
      "cell_type": "code",
      "metadata": {
        "id": "Of3uty2t22Yo",
        "colab": {
          "base_uri": "https://localhost:8080/"
        },
        "outputId": "6e8df08a-243c-4487-b918-4435e5b37eb7"
      },
      "source": [
        "model.summary()\n"
      ],
      "execution_count": null,
      "outputs": [
        {
          "output_type": "stream",
          "name": "stdout",
          "text": [
            "Model: \"sequential\"\n",
            "_________________________________________________________________\n",
            " Layer (type)                Output Shape              Param #   \n",
            "=================================================================\n",
            " conv2d (Conv2D)             (None, 128, 128, 64)      1664      \n",
            "                                                                 \n",
            " batch_normalization (BatchN  (None, 128, 128, 64)     256       \n",
            " ormalization)                                                   \n",
            "                                                                 \n",
            " max_pooling2d (MaxPooling2D  (None, 42, 42, 64)       0         \n",
            " )                                                               \n",
            "                                                                 \n",
            " dropout (Dropout)           (None, 42, 42, 64)        0         \n",
            "                                                                 \n",
            " conv2d_1 (Conv2D)           (None, 42, 42, 128)       73856     \n",
            "                                                                 \n",
            " batch_normalization_1 (Batc  (None, 42, 42, 128)      512       \n",
            " hNormalization)                                                 \n",
            "                                                                 \n",
            " max_pooling2d_1 (MaxPooling  (None, 14, 14, 128)      0         \n",
            " 2D)                                                             \n",
            "                                                                 \n",
            " dropout_1 (Dropout)         (None, 14, 14, 128)       0         \n",
            "                                                                 \n",
            " conv2d_2 (Conv2D)           (None, 14, 14, 128)       147584    \n",
            "                                                                 \n",
            " batch_normalization_2 (Batc  (None, 14, 14, 128)      512       \n",
            " hNormalization)                                                 \n",
            "                                                                 \n",
            " max_pooling2d_2 (MaxPooling  (None, 7, 7, 128)        0         \n",
            " 2D)                                                             \n",
            "                                                                 \n",
            " dropout_2 (Dropout)         (None, 7, 7, 128)         0         \n",
            "                                                                 \n",
            " conv2d_3 (Conv2D)           (None, 7, 7, 128)         147584    \n",
            "                                                                 \n",
            " batch_normalization_3 (Batc  (None, 7, 7, 128)        512       \n",
            " hNormalization)                                                 \n",
            "                                                                 \n",
            " max_pooling2d_3 (MaxPooling  (None, 3, 3, 128)        0         \n",
            " 2D)                                                             \n",
            "                                                                 \n",
            " dropout_3 (Dropout)         (None, 3, 3, 128)         0         \n",
            "                                                                 \n",
            " flatten (Flatten)           (None, 1152)              0         \n",
            "                                                                 \n",
            " dense (Dense)               (None, 256)               295168    \n",
            "                                                                 \n",
            " batch_normalization_4 (Batc  (None, 256)              1024      \n",
            " hNormalization)                                                 \n",
            "                                                                 \n",
            " dense_1 (Dense)             (None, 156)               40092     \n",
            "                                                                 \n",
            "=================================================================\n",
            "Total params: 708,764\n",
            "Trainable params: 707,356\n",
            "Non-trainable params: 1,408\n",
            "_________________________________________________________________\n"
          ]
        }
      ]
    },
    {
      "cell_type": "code",
      "metadata": {
        "id": "javWQQYo22Yp"
      },
      "source": [
        "from keras.callbacks import EarlyStopping, ModelCheckpoint, ReduceLROnPlateau\n",
        "\n",
        "earlystop = EarlyStopping(monitor='val_accuracy' ,patience=10,restore_best_weights=True,mode='max')\n",
        "lrreducuction = ReduceLROnPlateau(monitor='val_loss', factor=0.05, patience=2, verbose=1, min_lr=0.000005)\n",
        "filepath = \"/content/gdrive/MyDrive/TamilCharacterRecognition/models/checkpoint.h5\"\n",
        "checkpoint = ModelCheckpoint(filepath, monitor='val_accuracy', verbose=1, save_best_only=True, mode='max')\n",
        "\n",
        "callbacks = [earlystop, lrreducuction, checkpoint]"
      ],
      "execution_count": null,
      "outputs": []
    },
    {
      "cell_type": "code",
      "metadata": {
        "id": "dDxJVneU22Yp",
        "colab": {
          "base_uri": "https://localhost:8080/"
        },
        "outputId": "6ef590f8-39e2-4eb6-d380-ee3baa1900e9"
      },
      "source": [
        "history = model.fit(\n",
        "    train_gen,\n",
        "    epochs=epoch,\n",
        "    steps_per_epoch = train_count // batch_size,\n",
        "    validation_data = val_gen,\n",
        "    validation_steps = val_count // batch_size,\n",
        "    callbacks = callbacks\n",
        ")"
      ],
      "execution_count": null,
      "outputs": [
        {
          "output_type": "stream",
          "name": "stdout",
          "text": [
            "Epoch 1/100\n",
            "186/186 [==============================] - ETA: 0s - loss: 4.3526 - accuracy: 0.1216\n",
            "Epoch 00001: val_accuracy improved from -inf to 0.11413, saving model to /content/gdrive/MyDrive/TamilCharacterRecognition/models/checkpoint.h5\n",
            "186/186 [==============================] - 494s 3s/step - loss: 4.3526 - accuracy: 0.1216 - val_loss: 4.5645 - val_accuracy: 0.1141 - lr: 0.0010\n",
            "Epoch 2/100\n",
            "185/186 [============================>.] - ETA: 0s - loss: 3.0930 - accuracy: 0.3730\n",
            "Epoch 00002: val_accuracy improved from 0.11413 to 0.51630, saving model to /content/gdrive/MyDrive/TamilCharacterRecognition/models/checkpoint.h5\n",
            "186/186 [==============================] - 6s 35ms/step - loss: 3.0947 - accuracy: 0.3716 - val_loss: 2.3263 - val_accuracy: 0.5163 - lr: 0.0010\n",
            "Epoch 3/100\n",
            "185/186 [============================>.] - ETA: 0s - loss: 2.2269 - accuracy: 0.5703\n",
            "Epoch 00003: val_accuracy improved from 0.51630 to 0.60870, saving model to /content/gdrive/MyDrive/TamilCharacterRecognition/models/checkpoint.h5\n",
            "186/186 [==============================] - 6s 34ms/step - loss: 2.2269 - accuracy: 0.5706 - val_loss: 1.8854 - val_accuracy: 0.6087 - lr: 0.0010\n",
            "Epoch 4/100\n",
            "186/186 [==============================] - ETA: 0s - loss: 1.6219 - accuracy: 0.6949\n",
            "Epoch 00004: val_accuracy improved from 0.60870 to 0.65489, saving model to /content/gdrive/MyDrive/TamilCharacterRecognition/models/checkpoint.h5\n",
            "186/186 [==============================] - 6s 34ms/step - loss: 1.6219 - accuracy: 0.6949 - val_loss: 1.7688 - val_accuracy: 0.6549 - lr: 0.0010\n",
            "Epoch 5/100\n",
            "186/186 [==============================] - ETA: 0s - loss: 1.1417 - accuracy: 0.8024\n",
            "Epoch 00005: val_accuracy improved from 0.65489 to 0.72826, saving model to /content/gdrive/MyDrive/TamilCharacterRecognition/models/checkpoint.h5\n",
            "186/186 [==============================] - 6s 34ms/step - loss: 1.1417 - accuracy: 0.8024 - val_loss: 1.2556 - val_accuracy: 0.7283 - lr: 0.0010\n",
            "Epoch 6/100\n",
            "185/186 [============================>.] - ETA: 0s - loss: 0.8206 - accuracy: 0.8791\n",
            "Epoch 00006: val_accuracy improved from 0.72826 to 0.73641, saving model to /content/gdrive/MyDrive/TamilCharacterRecognition/models/checkpoint.h5\n",
            "186/186 [==============================] - 6s 34ms/step - loss: 0.8202 - accuracy: 0.8790 - val_loss: 1.2050 - val_accuracy: 0.7364 - lr: 0.0010\n",
            "Epoch 7/100\n",
            "186/186 [==============================] - ETA: 0s - loss: 0.5626 - accuracy: 0.9207\n",
            "Epoch 00007: val_accuracy improved from 0.73641 to 0.76902, saving model to /content/gdrive/MyDrive/TamilCharacterRecognition/models/checkpoint.h5\n",
            "186/186 [==============================] - 6s 33ms/step - loss: 0.5626 - accuracy: 0.9207 - val_loss: 1.0590 - val_accuracy: 0.7690 - lr: 0.0010\n",
            "Epoch 8/100\n",
            "185/186 [============================>.] - ETA: 0s - loss: 0.3877 - accuracy: 0.9507\n",
            "Epoch 00008: val_accuracy improved from 0.76902 to 0.79620, saving model to /content/gdrive/MyDrive/TamilCharacterRecognition/models/checkpoint.h5\n",
            "186/186 [==============================] - 6s 33ms/step - loss: 0.3883 - accuracy: 0.9503 - val_loss: 0.9662 - val_accuracy: 0.7962 - lr: 0.0010\n",
            "Epoch 9/100\n",
            "186/186 [==============================] - ETA: 0s - loss: 0.2761 - accuracy: 0.9637\n",
            "Epoch 00009: val_accuracy did not improve from 0.79620\n",
            "186/186 [==============================] - 6s 33ms/step - loss: 0.2761 - accuracy: 0.9637 - val_loss: 0.9968 - val_accuracy: 0.7908 - lr: 0.0010\n",
            "Epoch 10/100\n",
            "186/186 [==============================] - ETA: 0s - loss: 0.1927 - accuracy: 0.9798\n",
            "Epoch 00010: ReduceLROnPlateau reducing learning rate to 5.0000002374872565e-05.\n",
            "\n",
            "Epoch 00010: val_accuracy did not improve from 0.79620\n",
            "186/186 [==============================] - 6s 33ms/step - loss: 0.1927 - accuracy: 0.9798 - val_loss: 0.9797 - val_accuracy: 0.7717 - lr: 0.0010\n",
            "Epoch 11/100\n",
            "186/186 [==============================] - ETA: 0s - loss: 0.1003 - accuracy: 0.9919\n",
            "Epoch 00011: val_accuracy improved from 0.79620 to 0.80163, saving model to /content/gdrive/MyDrive/TamilCharacterRecognition/models/checkpoint.h5\n",
            "186/186 [==============================] - 7s 36ms/step - loss: 0.1003 - accuracy: 0.9919 - val_loss: 0.8410 - val_accuracy: 0.8016 - lr: 5.0000e-05\n",
            "Epoch 12/100\n",
            "186/186 [==============================] - ETA: 0s - loss: 0.0835 - accuracy: 0.9953\n",
            "Epoch 00012: val_accuracy improved from 0.80163 to 0.80707, saving model to /content/gdrive/MyDrive/TamilCharacterRecognition/models/checkpoint.h5\n",
            "186/186 [==============================] - 6s 34ms/step - loss: 0.0835 - accuracy: 0.9953 - val_loss: 0.8323 - val_accuracy: 0.8071 - lr: 5.0000e-05\n",
            "Epoch 13/100\n",
            "185/186 [============================>.] - ETA: 0s - loss: 0.0666 - accuracy: 0.9980\n",
            "Epoch 00013: val_accuracy improved from 0.80707 to 0.81250, saving model to /content/gdrive/MyDrive/TamilCharacterRecognition/models/checkpoint.h5\n",
            "186/186 [==============================] - 6s 34ms/step - loss: 0.0666 - accuracy: 0.9980 - val_loss: 0.8125 - val_accuracy: 0.8125 - lr: 5.0000e-05\n",
            "Epoch 14/100\n",
            "184/186 [============================>.] - ETA: 0s - loss: 0.0619 - accuracy: 0.9973\n",
            "Epoch 00014: val_accuracy did not improve from 0.81250\n",
            "186/186 [==============================] - 6s 33ms/step - loss: 0.0618 - accuracy: 0.9973 - val_loss: 0.8054 - val_accuracy: 0.8043 - lr: 5.0000e-05\n",
            "Epoch 15/100\n",
            "186/186 [==============================] - ETA: 0s - loss: 0.0532 - accuracy: 1.0000\n",
            "Epoch 00015: val_accuracy did not improve from 0.81250\n",
            "186/186 [==============================] - 6s 33ms/step - loss: 0.0532 - accuracy: 1.0000 - val_loss: 0.8058 - val_accuracy: 0.8016 - lr: 5.0000e-05\n",
            "Epoch 16/100\n",
            "185/186 [============================>.] - ETA: 0s - loss: 0.0508 - accuracy: 0.9986\n",
            "Epoch 00016: val_accuracy did not improve from 0.81250\n",
            "186/186 [==============================] - 6s 33ms/step - loss: 0.0510 - accuracy: 0.9987 - val_loss: 0.7811 - val_accuracy: 0.8071 - lr: 5.0000e-05\n",
            "Epoch 17/100\n",
            "185/186 [============================>.] - ETA: 0s - loss: 0.0470 - accuracy: 0.9986\n",
            "Epoch 00017: val_accuracy did not improve from 0.81250\n",
            "186/186 [==============================] - 6s 33ms/step - loss: 0.0469 - accuracy: 0.9987 - val_loss: 0.8074 - val_accuracy: 0.8043 - lr: 5.0000e-05\n",
            "Epoch 18/100\n",
            "186/186 [==============================] - ETA: 0s - loss: 0.0370 - accuracy: 1.0000\n",
            "Epoch 00018: ReduceLROnPlateau reducing learning rate to 5e-06.\n",
            "\n",
            "Epoch 00018: val_accuracy did not improve from 0.81250\n",
            "186/186 [==============================] - 6s 33ms/step - loss: 0.0370 - accuracy: 1.0000 - val_loss: 0.7897 - val_accuracy: 0.7962 - lr: 5.0000e-05\n",
            "Epoch 19/100\n",
            "186/186 [==============================] - ETA: 0s - loss: 0.0381 - accuracy: 1.0000\n",
            "Epoch 00019: val_accuracy did not improve from 0.81250\n",
            "186/186 [==============================] - 6s 33ms/step - loss: 0.0381 - accuracy: 1.0000 - val_loss: 0.7744 - val_accuracy: 0.8016 - lr: 5.0000e-06\n",
            "Epoch 20/100\n",
            "184/186 [============================>.] - ETA: 0s - loss: 0.0370 - accuracy: 0.9993\n",
            "Epoch 00020: val_accuracy did not improve from 0.81250\n",
            "186/186 [==============================] - 6s 34ms/step - loss: 0.0369 - accuracy: 0.9993 - val_loss: 0.7744 - val_accuracy: 0.8071 - lr: 5.0000e-06\n",
            "Epoch 21/100\n",
            "186/186 [==============================] - ETA: 0s - loss: 0.0354 - accuracy: 1.0000\n",
            "Epoch 00021: val_accuracy did not improve from 0.81250\n",
            "186/186 [==============================] - 6s 33ms/step - loss: 0.0354 - accuracy: 1.0000 - val_loss: 0.8087 - val_accuracy: 0.7962 - lr: 5.0000e-06\n",
            "Epoch 22/100\n",
            "185/186 [============================>.] - ETA: 0s - loss: 0.0391 - accuracy: 0.9986\n",
            "Epoch 00022: val_accuracy did not improve from 0.81250\n",
            "186/186 [==============================] - 6s 34ms/step - loss: 0.0390 - accuracy: 0.9987 - val_loss: 0.7997 - val_accuracy: 0.7880 - lr: 5.0000e-06\n",
            "Epoch 23/100\n",
            "185/186 [============================>.] - ETA: 0s - loss: 0.0381 - accuracy: 0.9986\n",
            "Epoch 00023: val_accuracy did not improve from 0.81250\n",
            "186/186 [==============================] - 6s 34ms/step - loss: 0.0380 - accuracy: 0.9987 - val_loss: 0.7966 - val_accuracy: 0.7989 - lr: 5.0000e-06\n"
          ]
        }
      ]
    },
    {
      "cell_type": "code",
      "metadata": {
        "id": "5q7g30Df22Yp"
      },
      "source": [
        "model.save_weights(\"/content/gdrive/MyDrive/HandwrittenRecognition/models/tamil_OCR_weights81.25.h5\")"
      ],
      "execution_count": null,
      "outputs": []
    },
    {
      "cell_type": "code",
      "metadata": {
        "id": "59_zVFWi22Yq"
      },
      "source": [
        "model.save(\"/content/gdrive/MyDrive/HandwrittenRecognition/models/tamil_OCR_model81.25.h5\")"
      ],
      "execution_count": null,
      "outputs": []
    },
    {
      "cell_type": "code",
      "metadata": {
        "id": "es7Vbb0n22Yq",
        "colab": {
          "base_uri": "https://localhost:8080/",
          "height": 545
        },
        "outputId": "ee8e3c26-a52c-4747-85fc-20f065d34d5e"
      },
      "source": [
        "epoch_xaxis = range(1, len(history.history['accuracy'])+1)\n",
        "\n",
        "plt.plot(epoch_xaxis, history.history['accuracy'], 'r', label='Training Accuracy')\n",
        "plt.plot(epoch_xaxis, history.history['val_accuracy'], 'b', label='Validation Accuracy')\n",
        "plt.title('Training vs Validation Accuracy')\n",
        "plt.legend()\n",
        "plt.show()\n",
        "\n",
        "plt.figure()\n",
        "\n",
        "plt.plot(epoch_xaxis, history.history['loss'], 'r', label='Training Loss')\n",
        "plt.plot(epoch_xaxis, history.history['val_loss'], 'b', label='Validation Loss')\n",
        "plt.title('Training vs Validation Loss')\n",
        "plt.legend()\n",
        "plt.show()"
      ],
      "execution_count": null,
      "outputs": [
        {
          "output_type": "display_data",
          "data": {
            "image/png": "[encoded data removed]",
            "text/plain": [
              "<Figure size 432x288 with 1 Axes>"
            ]
          },
          "metadata": {
            "needs_background": "light"
          }
        },
        {
          "output_type": "display_data",
          "data": {
            "image/png": "[encoded data removed]",
            "text/plain": [
              "<Figure size 432x288 with 1 Axes>"
            ]
          },
          "metadata": {
            "needs_background": "light"
          }
        }
      ]
    },
    {
      "cell_type": "code",
      "metadata": {
        "id": "iAH6IgAh22Yq"
      },
      "source": [
        "import sys\n",
        "sys.path.insert(0,'/content/gdrive/MyDrive/HandwrittenRecognition/src')"
      ],
      "execution_count": null,
      "outputs": []
    },
    {
      "cell_type": "code",
      "metadata": {
        "id": "v5ALUNXW22Yr"
      },
      "source": [
        ""
      ],
      "execution_count": null,
      "outputs": []
    },
    {
      "cell_type": "code",
      "metadata": {
        "id": "JFk-tyEI22Yr"
      },
      "source": [
        "from CharMapper import classToChar"
      ],
      "execution_count": null,
      "outputs": []
    },
    {
      "cell_type": "code",
      "metadata": {
        "id": "JV69orCR22Ys"
      },
      "source": [
        "model = models.load_model('/content/gdrive/MyDrive/HandwrittenRecognition/models/tamil_OCR_model82.88.h5')"
      ],
      "execution_count": null,
      "outputs": []
    },
    {
      "cell_type": "code",
      "metadata": {
        "id": "RJjHZkdXHOgH"
      },
      "source": [
        ""
      ],
      "execution_count": null,
      "outputs": []
    },
    {
      "cell_type": "code",
      "metadata": {
        "id": "az-e7WfnGru6"
      },
      "source": [
        "def find_actual_class(indice):\n",
        "  for key,val in val_gen.class_indices.items():\n",
        "    if val==indice:\n",
        "      return int(key)\n",
        "  print(\"Indice Not Found\")"
      ],
      "execution_count": null,
      "outputs": []
    },
    {
      "cell_type": "code",
      "metadata": {
        "id": "BzZJL8lP22Ys"
      },
      "source": [
        "def test_single_img(path):\n",
        "  imgPIL = load_img(path,color_mode='grayscale',target_size=(128,128))\n",
        "  img = img_to_array(imgPIL)\n",
        "  img = img.reshape(-1,128,128,1)\n",
        "  y_prob = model.predict(img)\n",
        "  y_class_id = y_prob.argmax(axis=1)[0]\n",
        "  y_class = find_actual_class(y_class_id)\n",
        "  print(y_class)\n",
        "  return classToChar(y_class)\n"
      ],
      "execution_count": null,
      "outputs": []
    },
    {
      "cell_type": "code",
      "metadata": {
        "id": "ye4P1aAE22Ys",
        "colab": {
          "base_uri": "https://localhost:8080/",
          "height": 54
        },
        "outputId": "162620cb-156f-4045-ffc9-f6a9f82dff40"
      },
      "source": [
        "test_single_img('/content/gdrive/MyDrive/HandwrittenRecognition/Datasets/001t09.tiff')"
      ],
      "execution_count": null,
      "outputs": [
        {
          "output_type": "stream",
          "name": "stdout",
          "text": [
            "1\n"
          ]
        },
        {
          "output_type": "execute_result",
          "data": {
            "application/vnd.google.colaboratory.intrinsic+json": {
              "type": "string"
            },
            "text/plain": [
              "'ஆ'"
            ]
          },
          "metadata": {},
          "execution_count": 33
        }
      ]
    },
    {
      "cell_type": "code",
      "metadata": {
        "colab": {
          "base_uri": "https://localhost:8080/"
        },
        "id": "8g8O7TM10O0a",
        "outputId": "e5b37b26-c144-4c63-cb7a-c4dd75f987a2"
      },
      "source": [
        "model.evaluate(train_gen,return_dict=True)"
      ],
      "execution_count": null,
      "outputs": [
        {
          "output_type": "stream",
          "name": "stdout",
          "text": [
            "186/186 [==============================] - 4s 20ms/step - loss: 0.1608 - accuracy: 0.9637\n"
          ]
        },
        {
          "output_type": "execute_result",
          "data": {
            "text/plain": [
              "{'accuracy': 0.9637096524238586, 'loss': 0.16078484058380127}"
            ]
          },
          "metadata": {},
          "execution_count": 36
        }
      ]
    },
    {
      "cell_type": "code",
      "metadata": {
        "colab": {
          "base_uri": "https://localhost:8080/"
        },
        "id": "zexZmFo85OcQ",
        "outputId": "ce284297-f3e9-4a12-e350-93f14b0c84a6"
      },
      "source": [
        "model.evaluate(val_gen,return_dict=True)"
      ],
      "execution_count": null,
      "outputs": [
        {
          "output_type": "stream",
          "name": "stdout",
          "text": [
            "47/47 [==============================] - 1s 20ms/step - loss: 0.1479 - accuracy: 0.9677\n"
          ]
        },
        {
          "output_type": "execute_result",
          "data": {
            "text/plain": [
              "{'accuracy': 0.9677419066429138, 'loss': 0.14790257811546326}"
            ]
          },
          "metadata": {},
          "execution_count": 37
        }
      ]
    },
    {
      "cell_type": "code",
      "metadata": {
        "id": "f8ff4MEn7YTq"
      },
      "source": [
        ""
      ],
      "execution_count": null,
      "outputs": []
    },
    {
      "cell_type": "code",
      "metadata": {
        "id": "LrZ99f0e76mz"
      },
      "source": [
        ""
      ],
      "execution_count": null,
      "outputs": []
    },
    {
      "cell_type": "code",
      "metadata": {
        "id": "L0j3iT0v79Iw"
      },
      "source": [
        ""
      ],
      "execution_count": null,
      "outputs": []
    }
  ]
}